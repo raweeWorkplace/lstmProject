{
  "nbformat": 4,
  "nbformat_minor": 0,
  "metadata": {
    "kernelspec": {
      "display_name": "Python 3",
      "language": "python",
      "name": "python3"
    },
    "language_info": {
      "codemirror_mode": {
        "name": "ipython",
        "version": 3
      },
      "file_extension": ".py",
      "mimetype": "text/x-python",
      "name": "python",
      "nbconvert_exporter": "python",
      "pygments_lexer": "ipython3",
      "version": "3.7.7"
    },
    "colab": {
      "name": "main.ipynb",
      "provenance": []
    },
    "accelerator": "GPU"
  },
  "cells": [
    {
      "cell_type": "code",
      "metadata": {
        "id": "sBq8PTIfs6uW",
        "colab_type": "code",
        "colab": {}
      },
      "source": [
        "#!conda install -c pytorch pytorch\n",
        "#!conda install -c conda-forge spacy\n",
        "#!conda install -c pytorch torchtext\n"
      ],
      "execution_count": null,
      "outputs": []
    },
    {
      "cell_type": "code",
      "metadata": {
        "id": "08D6dW2ds6uo",
        "colab_type": "code",
        "colab": {}
      },
      "source": [
        "import torch\n",
        "from torchtext import data\n",
        "\n",
        "import pandas as pd\n",
        "import numpy as np\n",
        "\n",
        "import torch.nn as nn\n",
        "import torch.optim as optim\n",
        "import torch.nn.functional as F\n",
        "import torchtext\n",
        "\n",
        "import spacy\n",
        "\n",
        "from torch.autograd import Variable\n",
        "\n",
        "import time\n",
        "import copy\n",
        "from torch.optim import lr_scheduler\n",
        "\n",
        "from sklearn.model_selection import train_test_split\n",
        "from torchtext.vocab import Vectors, GloVe\n",
        "from matplotlib.pyplot import plot, hist, xlabel, legend"
      ],
      "execution_count": 3,
      "outputs": []
    },
    {
      "cell_type": "code",
      "metadata": {
        "id": "xA6q5eeDs6uw",
        "colab_type": "code",
        "colab": {
          "base_uri": "https://localhost:8080/",
          "height": 317
        },
        "outputId": "b99f70e9-78e3-45da-89f4-e9415bf73e78"
      },
      "source": [
        "#Reading training, validation and test data from respective csv files\n",
        "from google.colab import drive\n",
        "drive.mount('/content/drive')\n",
        "# path = \"copied path\"\n",
        "# df_bonus = pd.read_csv(path)\n",
        "train_data = pd.read_csv(\"/content/drive/My Drive/Colab Notebooks/DBPEDIA_train.csv\")\n",
        "test_data = pd.read_csv(\"/content/drive/My Drive/Colab Notebooks/DBPEDIA_test.csv\")\n",
        "validation_data = pd.read_csv(\"/content/drive/My Drive/Colab Notebooks/DBPEDIA_val.csv\")\n",
        "                        \n",
        "#Displaying training data Head\n",
        "train_data.head()"
      ],
      "execution_count": 5,
      "outputs": [
        {
          "output_type": "stream",
          "text": [
            "Go to this URL in a browser: https://accounts.google.com/o/oauth2/auth?client_id=947318989803-6bn6qk8qdgf4n4g3pfee6491hc0brc4i.apps.googleusercontent.com&redirect_uri=urn%3aietf%3awg%3aoauth%3a2.0%3aoob&response_type=code&scope=email%20https%3a%2f%2fwww.googleapis.com%2fauth%2fdocs.test%20https%3a%2f%2fwww.googleapis.com%2fauth%2fdrive%20https%3a%2f%2fwww.googleapis.com%2fauth%2fdrive.photos.readonly%20https%3a%2f%2fwww.googleapis.com%2fauth%2fpeopleapi.readonly\n",
            "\n",
            "Enter your authorization code:\n",
            "··········\n",
            "Mounted at /content/drive\n"
          ],
          "name": "stdout"
        },
        {
          "output_type": "execute_result",
          "data": {
            "text/html": [
              "<div>\n",
              "<style scoped>\n",
              "    .dataframe tbody tr th:only-of-type {\n",
              "        vertical-align: middle;\n",
              "    }\n",
              "\n",
              "    .dataframe tbody tr th {\n",
              "        vertical-align: top;\n",
              "    }\n",
              "\n",
              "    .dataframe thead th {\n",
              "        text-align: right;\n",
              "    }\n",
              "</style>\n",
              "<table border=\"1\" class=\"dataframe\">\n",
              "  <thead>\n",
              "    <tr style=\"text-align: right;\">\n",
              "      <th></th>\n",
              "      <th>text</th>\n",
              "      <th>l1</th>\n",
              "      <th>l2</th>\n",
              "      <th>l3</th>\n",
              "    </tr>\n",
              "  </thead>\n",
              "  <tbody>\n",
              "    <tr>\n",
              "      <th>0</th>\n",
              "      <td>William Alexander Massey (October 7, 1856 – Ma...</td>\n",
              "      <td>Agent</td>\n",
              "      <td>Politician</td>\n",
              "      <td>Senator</td>\n",
              "    </tr>\n",
              "    <tr>\n",
              "      <th>1</th>\n",
              "      <td>Lions is the sixth studio album by American ro...</td>\n",
              "      <td>Work</td>\n",
              "      <td>MusicalWork</td>\n",
              "      <td>Album</td>\n",
              "    </tr>\n",
              "    <tr>\n",
              "      <th>2</th>\n",
              "      <td>Pirqa (Aymara and Quechua for wall, hispaniciz...</td>\n",
              "      <td>Place</td>\n",
              "      <td>NaturalPlace</td>\n",
              "      <td>Mountain</td>\n",
              "    </tr>\n",
              "    <tr>\n",
              "      <th>3</th>\n",
              "      <td>Cancer Prevention Research is a biweekly peer-...</td>\n",
              "      <td>Work</td>\n",
              "      <td>PeriodicalLiterature</td>\n",
              "      <td>AcademicJournal</td>\n",
              "    </tr>\n",
              "    <tr>\n",
              "      <th>4</th>\n",
              "      <td>The Princeton University Chapel is located on ...</td>\n",
              "      <td>Place</td>\n",
              "      <td>Building</td>\n",
              "      <td>HistoricBuilding</td>\n",
              "    </tr>\n",
              "  </tbody>\n",
              "</table>\n",
              "</div>"
            ],
            "text/plain": [
              "                                                text  ...                l3\n",
              "0  William Alexander Massey (October 7, 1856 – Ma...  ...           Senator\n",
              "1  Lions is the sixth studio album by American ro...  ...             Album\n",
              "2  Pirqa (Aymara and Quechua for wall, hispaniciz...  ...          Mountain\n",
              "3  Cancer Prevention Research is a biweekly peer-...  ...   AcademicJournal\n",
              "4  The Princeton University Chapel is located on ...  ...  HistoricBuilding\n",
              "\n",
              "[5 rows x 4 columns]"
            ]
          },
          "metadata": {
            "tags": []
          },
          "execution_count": 5
        }
      ]
    },
    {
      "cell_type": "code",
      "metadata": {
        "id": "54xl43-Wt8FC",
        "colab_type": "code",
        "colab": {}
      },
      "source": [
        ""
      ],
      "execution_count": null,
      "outputs": []
    },
    {
      "cell_type": "code",
      "metadata": {
        "id": "XLq0qnWOs6u1",
        "colab_type": "code",
        "colab": {}
      },
      "source": [
        "#Removing any sort of urls from the dataframes\n",
        "\n",
        "import re\n",
        "url = re.compile(r'https?://\\S+|www\\.\\S+')\n",
        "train = train_data['text'].apply(lambda news: url.sub(r'',news))\n",
        "test = test_data['text'].apply(lambda news: url.sub(r'',news))\n",
        "valid = validation_data['text'].apply(lambda news: url.sub(r'',news))"
      ],
      "execution_count": 6,
      "outputs": []
    },
    {
      "cell_type": "code",
      "metadata": {
        "id": "aOESLXn1s6u7",
        "colab_type": "code",
        "colab": {}
      },
      "source": [
        "#Removing the noise from data and transforming them to lowercase\n",
        "\n",
        "train=train.str.lower().str.replace(\"[^a-z]\", \" \")\n",
        "test=test.str.lower().str.replace(\"[^a-z]\", \" \")\n",
        "valid=valid.str.lower().str.replace(\"[^a-z]\", \" \")"
      ],
      "execution_count": 7,
      "outputs": []
    },
    {
      "cell_type": "code",
      "metadata": {
        "id": "lfe8gMoss6vA",
        "colab_type": "code",
        "colab": {
          "base_uri": "https://localhost:8080/",
          "height": 90
        },
        "outputId": "3af7015d-d99b-4a5d-8d2c-933da34e192d"
      },
      "source": [
        "#Removing the stop-words and performing lemmatization\n",
        "\n",
        "tokenized_train = train.apply(lambda news: news.split())\n",
        "tokenized_test = test.apply(lambda news: news.split())\n",
        "tokenized_val = valid.apply(lambda news: news.split())\n",
        "\n",
        "\n",
        "import nltk\n",
        "nltk.download('stopwords')\n",
        "from nltk.corpus import stopwords \n",
        "stop_words = stopwords.words('english')\n",
        "\n",
        "nltk.download('wordnet')\n",
        "from nltk.stem import WordNetLemmatizer\n",
        "lem = WordNetLemmatizer()\n",
        "\n",
        "tokenized_train = tokenized_train.apply(lambda news: [lem.lemmatize(word) for word in news if word not in stop_words])\n",
        "tokenized_test = tokenized_test.apply(lambda news: [lem.lemmatize(word) for word in news if word not in stop_words])\n",
        "tokenized_val = tokenized_val.apply(lambda news: [lem.lemmatize(word) for word in news if word not in stop_words])"
      ],
      "execution_count": 8,
      "outputs": [
        {
          "output_type": "stream",
          "text": [
            "[nltk_data] Downloading package stopwords to /root/nltk_data...\n",
            "[nltk_data]   Unzipping corpora/stopwords.zip.\n",
            "[nltk_data] Downloading package wordnet to /root/nltk_data...\n",
            "[nltk_data]   Unzipping corpora/wordnet.zip.\n"
          ],
          "name": "stdout"
        }
      ]
    },
    {
      "cell_type": "code",
      "metadata": {
        "id": "VBOkj6vHs6vF",
        "colab_type": "code",
        "colab": {
          "base_uri": "https://localhost:8080/",
          "height": 206
        },
        "outputId": "179c872b-6d60-4733-a27a-54301a1aeccc"
      },
      "source": [
        "#De-tokenizing data \n",
        "\n",
        "detokenized_train = [] \n",
        "for i in range(len(train)): \n",
        "    t = ' '.join(tokenized_train[i]) \n",
        "    detokenized_train.append(t) \n",
        "\n",
        "detokenized_test = [] \n",
        "for i in range(len(test)): \n",
        "    t = ' '.join(tokenized_test[i]) \n",
        "    detokenized_test.append(t) \n",
        "\n",
        "detokenized_val = [] \n",
        "for i in range(len(valid)): \n",
        "    t = ' '.join(tokenized_val[i]) \n",
        "    detokenized_val.append(t) \n",
        "\n",
        "train_data['text'] = detokenized_train\n",
        "test_data['text'] = detokenized_test\n",
        "validation_data['text'] = detokenized_val\n",
        "\n",
        "#Displaying Preety datasets\n",
        "train_data.head()\n",
        "#test_data.head()\n",
        "#validation_data.head()"
      ],
      "execution_count": 9,
      "outputs": [
        {
          "output_type": "execute_result",
          "data": {
            "text/html": [
              "<div>\n",
              "<style scoped>\n",
              "    .dataframe tbody tr th:only-of-type {\n",
              "        vertical-align: middle;\n",
              "    }\n",
              "\n",
              "    .dataframe tbody tr th {\n",
              "        vertical-align: top;\n",
              "    }\n",
              "\n",
              "    .dataframe thead th {\n",
              "        text-align: right;\n",
              "    }\n",
              "</style>\n",
              "<table border=\"1\" class=\"dataframe\">\n",
              "  <thead>\n",
              "    <tr style=\"text-align: right;\">\n",
              "      <th></th>\n",
              "      <th>text</th>\n",
              "      <th>l1</th>\n",
              "      <th>l2</th>\n",
              "      <th>l3</th>\n",
              "    </tr>\n",
              "  </thead>\n",
              "  <tbody>\n",
              "    <tr>\n",
              "      <th>0</th>\n",
              "      <td>william alexander massey october march united ...</td>\n",
              "      <td>Agent</td>\n",
              "      <td>Politician</td>\n",
              "      <td>Senator</td>\n",
              "    </tr>\n",
              "    <tr>\n",
              "      <th>1</th>\n",
              "      <td>lion sixth studio album american rock band bla...</td>\n",
              "      <td>Work</td>\n",
              "      <td>MusicalWork</td>\n",
              "      <td>Album</td>\n",
              "    </tr>\n",
              "    <tr>\n",
              "      <th>2</th>\n",
              "      <td>pirqa aymara quechua wall hispanicized spellin...</td>\n",
              "      <td>Place</td>\n",
              "      <td>NaturalPlace</td>\n",
              "      <td>Mountain</td>\n",
              "    </tr>\n",
              "    <tr>\n",
              "      <th>3</th>\n",
              "      <td>cancer prevention research biweekly peer revie...</td>\n",
              "      <td>Work</td>\n",
              "      <td>PeriodicalLiterature</td>\n",
              "      <td>AcademicJournal</td>\n",
              "    </tr>\n",
              "    <tr>\n",
              "      <th>4</th>\n",
              "      <td>princeton university chapel located university...</td>\n",
              "      <td>Place</td>\n",
              "      <td>Building</td>\n",
              "      <td>HistoricBuilding</td>\n",
              "    </tr>\n",
              "  </tbody>\n",
              "</table>\n",
              "</div>"
            ],
            "text/plain": [
              "                                                text  ...                l3\n",
              "0  william alexander massey october march united ...  ...           Senator\n",
              "1  lion sixth studio album american rock band bla...  ...             Album\n",
              "2  pirqa aymara quechua wall hispanicized spellin...  ...          Mountain\n",
              "3  cancer prevention research biweekly peer revie...  ...   AcademicJournal\n",
              "4  princeton university chapel located university...  ...  HistoricBuilding\n",
              "\n",
              "[5 rows x 4 columns]"
            ]
          },
          "metadata": {
            "tags": []
          },
          "execution_count": 9
        }
      ]
    },
    {
      "cell_type": "code",
      "metadata": {
        "id": "IttCahE5s6vI",
        "colab_type": "code",
        "colab": {}
      },
      "source": [
        "#Selecting text and label field\n",
        "train = train_data[['text', 'l2']]\n",
        "valid = validation_data[['text', 'l2']]\n",
        "test = test_data[['text']]\n",
        "\n",
        "X_train = train['text']\n",
        "y_train = train['l2']\n",
        "X_val = valid['text']\n",
        "y_val = valid['l2']\n",
        "\n",
        "train_data = pd.concat([X_train, y_train], axis=1)\n",
        "validation_data = pd.concat([X_val, y_val], axis=1)"
      ],
      "execution_count": 11,
      "outputs": []
    },
    {
      "cell_type": "code",
      "metadata": {
        "id": "3OIpZHS8xqTX",
        "colab_type": "code",
        "colab": {
          "base_uri": "https://localhost:8080/",
          "height": 128
        },
        "outputId": "1cb52634-aac9-4155-a61f-9670ed3f8dba"
      },
      "source": [
        "#!pip install torch torchvision"
      ],
      "execution_count": 30,
      "outputs": [
        {
          "output_type": "stream",
          "text": [
            "Requirement already satisfied: torch in /usr/local/lib/python3.6/dist-packages (0.3.0.post4)\n",
            "Requirement already satisfied: torchvision in /usr/local/lib/python3.6/dist-packages (0.6.0+cu101)\n",
            "Requirement already satisfied: pyyaml in /usr/local/lib/python3.6/dist-packages (from torch) (3.13)\n",
            "Requirement already satisfied: numpy in /usr/local/lib/python3.6/dist-packages (from torch) (1.18.5)\n",
            "Requirement already satisfied: pillow>=4.1.1 in /usr/local/lib/python3.6/dist-packages (from torchvision) (7.0.0)\n"
          ],
          "name": "stdout"
        }
      ]
    },
    {
      "cell_type": "code",
      "metadata": {
        "id": "mUyhpo2Exrcu",
        "colab_type": "code",
        "colab": {
          "base_uri": "https://localhost:8080/",
          "height": 73
        },
        "outputId": "92b3e459-90f8-4a93-d2aa-b28086735500"
      },
      "source": [
        ""
      ],
      "execution_count": 29,
      "outputs": [
        {
          "output_type": "stream",
          "text": [
            "\u001b[31mERROR: Could not find a version that satisfies the requirement torch.backends.cudnn (from versions: none)\u001b[0m\n",
            "\u001b[31mERROR: No matching distribution found for torch.backends.cudnn\u001b[0m\n"
          ],
          "name": "stdout"
        }
      ]
    },
    {
      "cell_type": "code",
      "metadata": {
        "id": "LC_-q5xFs6vM",
        "colab_type": "code",
        "colab": {
          "base_uri": "https://localhost:8080/",
          "height": 35
        },
        "outputId": "b7bca6f1-8072-4e97-f733-1fc9d2257d2e"
      },
      "source": [
        "is_cuda = torch.cuda.is_available()\n",
        "print(\"Cuda Status on system is {}\".format(is_cuda))\n",
        "\n",
        "device = torch.device('cuda' if torch.cuda.is_available() else 'cpu')"
      ],
      "execution_count": 12,
      "outputs": [
        {
          "output_type": "stream",
          "text": [
            "Cuda Status on system is True\n"
          ],
          "name": "stdout"
        }
      ]
    },
    {
      "cell_type": "code",
      "metadata": {
        "id": "rlWPUDzVs6vR",
        "colab_type": "code",
        "colab": {
          "base_uri": "https://localhost:8080/",
          "height": 356
        },
        "outputId": "2365097c-158f-4b26-e5af-a589fc863157"
      },
      "source": [
        "news_len=train['text'].str.split().map(lambda x: len(x))\n",
        "hist(news_len,color='blue')"
      ],
      "execution_count": 13,
      "outputs": [
        {
          "output_type": "execute_result",
          "data": {
            "text/plain": [
              "(array([1.42659e+05, 5.88460e+04, 2.32950e+04, 1.00850e+04, 4.38300e+03,\n",
              "        1.51900e+03, 1.34000e+02, 1.90000e+01, 1.00000e+00, 1.00000e+00]),\n",
              " array([  4. ,  53.4, 102.8, 152.2, 201.6, 251. , 300.4, 349.8, 399.2,\n",
              "        448.6, 498. ]),\n",
              " <a list of 10 Patch objects>)"
            ]
          },
          "metadata": {
            "tags": []
          },
          "execution_count": 13
        },
        {
          "output_type": "display_data",
          "data": {
            "image/png": "[encoded data removed]",
            "text/plain": [
              "<Figure size 432x288 with 1 Axes>"
            ]
          },
          "metadata": {
            "tags": [],
            "needs_background": "light"
          }
        }
      ]
    },
    {
      "cell_type": "code",
      "metadata": {
        "id": "Bj166sGfs6vV",
        "colab_type": "code",
        "colab": {}
      },
      "source": [
        "train_data.to_csv(\"processed_files/train.csv\", index=False)\n",
        "validation_data.to_csv(\"processed_files/val.csv\", index=False)"
      ],
      "execution_count": 15,
      "outputs": []
    },
    {
      "cell_type": "code",
      "metadata": {
        "id": "Uejcaugos6vb",
        "colab_type": "code",
        "colab": {}
      },
      "source": [
        "fix_length = 250\n",
        "TEXT = data.Field(sequential=True, tokenize=\"spacy\", fix_length=fix_length)\n",
        "LABEL = data.LabelField(dtype=torch.long, sequential=False)"
      ],
      "execution_count": 43,
      "outputs": []
    },
    {
      "cell_type": "code",
      "metadata": {
        "id": "MD0A4jlKs6vf",
        "colab_type": "code",
        "colab": {}
      },
      "source": [
        "train_data, val_data = data.TabularDataset.splits(\n",
        "    path=\"processed_files/\", train=\"train.csv\", \n",
        "    test=\"val.csv\",format=\"csv\", skip_header=True, \n",
        "    fields=[('Text', TEXT), ('Label', LABEL)]\n",
        ")"
      ],
      "execution_count": 44,
      "outputs": []
    },
    {
      "cell_type": "code",
      "metadata": {
        "id": "5Qd5ULpSs6vk",
        "colab_type": "code",
        "colab": {
          "base_uri": "https://localhost:8080/",
          "height": 53
        },
        "outputId": "93037bbf-5eaf-431c-89e6-8b11f899c1ee"
      },
      "source": [
        "print(f'Number of training examples: {len(train_data)}')\n",
        "print(f'Number of testing examples: {len(val_data)}')"
      ],
      "execution_count": 45,
      "outputs": [
        {
          "output_type": "stream",
          "text": [
            "Number of training examples: 240942\n",
            "Number of testing examples: 36003\n"
          ],
          "name": "stdout"
        }
      ]
    },
    {
      "cell_type": "code",
      "metadata": {
        "id": "VkXhvaSns6vo",
        "colab_type": "code",
        "colab": {
          "base_uri": "https://localhost:8080/",
          "height": 53
        },
        "outputId": "78dd7fbf-e19e-41de-b003-98c31ee0b437"
      },
      "source": [
        "TEXT.build_vocab(train_data, vectors=GloVe(name='6B', dim=300))\n",
        "LABEL.build_vocab(train_data)\n",
        "\n",
        "print(f\"Unique tokens in TEXT vocabulary: {len(TEXT.vocab)}\")\n",
        "print(f\"Unique tokens in LABEL vocabulary: {len(LABEL.vocab)}\")"
      ],
      "execution_count": 46,
      "outputs": [
        {
          "output_type": "stream",
          "text": [
            "Unique tokens in TEXT vocabulary: 394137\n",
            "Unique tokens in LABEL vocabulary: 70\n"
          ],
          "name": "stdout"
        }
      ]
    },
    {
      "cell_type": "code",
      "metadata": {
        "id": "7zuV5ZKqs6vs",
        "colab_type": "code",
        "colab": {}
      },
      "source": [
        ""
      ],
      "execution_count": null,
      "outputs": []
    },
    {
      "cell_type": "code",
      "metadata": {
        "id": "RuNRfDpis6vv",
        "colab_type": "code",
        "colab": {}
      },
      "source": [
        "batch_size = 16\n",
        " \n",
        "train_iterator, val_iterator = data.BucketIterator.splits(\n",
        "    (train_data, val_data), sort_key=lambda x: len(x.Text),\n",
        "    batch_size=batch_size,\n",
        "    device=device)"
      ],
      "execution_count": 47,
      "outputs": []
    },
    {
      "cell_type": "code",
      "metadata": {
        "id": "Wi15JRh9s6vx",
        "colab_type": "code",
        "colab": {}
      },
      "source": [
        "class LSTM2DMaxPoolClassifier(nn.Module):\n",
        "\tdef __init__(self, batch_size, output_size, hidden_size, vocab_size, embedding_length, num_layers, weights):\n",
        "\t\tsuper(LSTM2DMaxPoolClassifier, self).__init__()\n",
        "\t\t\n",
        "\t\t\"\"\"\n",
        "\t\tArguments\n",
        "\t\t---------\n",
        "\t\tbatch_size : Size of the batch which is same as the batch_size of the data returned by the TorchText BucketIterator\n",
        "\t\toutput_size : 2 = (pos, neg)\n",
        "\t\thidden_sie : Size of the hidden_state of the LSTM\n",
        "\t\tvocab_size : Size of the vocabulary containing unique words\n",
        "\t\tembedding_length : Embeddding dimension of GloVe word embeddings\n",
        "\t\tweights : Pre-trained GloVe word_embeddings which we will use to create our word_embedding look-up table \n",
        "\t\t\n",
        "\t\t\"\"\"\n",
        "\t\tself.hidden_size = hidden_size\n",
        "\t\tself.batch_size = batch_size\n",
        "\t\tself.num_layers = num_layers\n",
        "\t\t\n",
        "\t\tself.word_embeddings = nn.Embedding(vocab_size, embedding_length)# Initializing the look-up table.\n",
        "\t\tself.word_embeddings.weight = nn.Parameter(weights, requires_grad=False) # Assigning the look-up table to the pre-trained GloVe word embedding.\n",
        "\t\tself.lstm = nn.LSTM(embedding_length, hidden_size, num_layers, batch_first = True)\n",
        "\t\tself.maxpool = nn.MaxPool1d(4) # Where 4 is kernal size\n",
        "\t\tself.label = nn.Linear(hidden_size//4, output_size)  #//4 for maxpool\n",
        "\t\t\n",
        "\tdef forward(self, input_sentence, batch_size=None):\n",
        "\t\n",
        "\t\t\"\"\" \n",
        "\t\tParameters\n",
        "\t\t----------\n",
        "\t\tinput_sentence: input_sentence of shape = (batch_size, num_sequences)\n",
        "\t\tbatch_size : default = None. Used only for prediction on a single sentence after training (batch_size = 1)\n",
        "\t\t\n",
        "\t\tReturns\n",
        "\t\t-------\n",
        "\t\tOutput of the linear layer containing logits for positive & negative class which receives its input as the final_hidden_state of the LSTM\n",
        "\t\tfinal_output.shape = (batch_size, output_size)\n",
        "\t\t\n",
        "\t\t\"\"\"\n",
        "\t\t\n",
        "\t\t''' Here we will map all the indexes present in the input sequence to the corresponding word vector using our pre-trained word_embedddins.'''\n",
        "\t\tinput = self.word_embeddings(input_sentence) # embedded input of shape = (batch_size, num_sequences,  embedding_length)\n",
        "\t\tinput = input.permute(1, 0, 2) # input.size() = (num_sequences, batch_size, embedding_length)\n",
        "\t\tif batch_size is None:\n",
        "\t\t  h_0 = Variable(torch.zeros(self.num_layers, self.batch_size, self.hidden_size).cuda()) # Initial hidden state of the LSTM, num_layers*2 for biderection\n",
        "\t\t  c_0 = Variable(torch.zeros(self.num_layers, self.batch_size, self.hidden_size).cuda()) # Initial cell state of the LSTM, num_layers*2 for biderection\n",
        "\t\telse:\n",
        "\t\t\th_0 = Variable(torch.zeros(self.num_layers, batch_size, self.hidden_size).cuda())\n",
        "\t\t\tc_0 = Variable(torch.zeros(self.num_layers, batch_size, self.hidden_size).cuda())\n",
        "\t\toutput, (final_hidden_state, final_cell_state) = self.lstm(input, (h_0, c_0))\n",
        "\n",
        "\t\tpooled = self.maxpool(output)\n",
        "\n",
        "\t\tfinal_output = self.label(pooled[:, -1, :]) #the same if we would use final_hidden_state\n",
        "\n",
        "\t\treturn final_output"
      ],
      "execution_count": 48,
      "outputs": []
    },
    {
      "cell_type": "code",
      "metadata": {
        "id": "p7fzFdM-s6v0",
        "colab_type": "code",
        "colab": {}
      },
      "source": [
        "word_embeddings = TEXT.vocab.vectors\n",
        "output_size = 2\n",
        "num_layers = 3\n",
        "hidden_size = 32\n",
        "embedding_length = 300\n",
        "vocab_size = len(TEXT.vocab)"
      ],
      "execution_count": 50,
      "outputs": []
    },
    {
      "cell_type": "code",
      "metadata": {
        "id": "TbpoBjsOs6v4",
        "colab_type": "code",
        "colab": {}
      },
      "source": [
        "model = LSTM2DMaxPoolClassifier(batch_size, output_size, hidden_size, vocab_size, embedding_length, num_layers, word_embeddings)"
      ],
      "execution_count": 51,
      "outputs": []
    },
    {
      "cell_type": "code",
      "metadata": {
        "id": "rJvxDeFPs6v7",
        "colab_type": "code",
        "colab": {}
      },
      "source": [
        "optimizer = optim.Adam(model.parameters(), lr=2e-3, weight_decay=1e-4)\n",
        "criterion = nn.CrossEntropyLoss()\n",
        "exp_lr_scheduler = lr_scheduler.StepLR(optimizer, step_size=2, gamma=0.1)"
      ],
      "execution_count": 52,
      "outputs": []
    },
    {
      "cell_type": "code",
      "metadata": {
        "id": "6mwDi34xs6wA",
        "colab_type": "code",
        "colab": {}
      },
      "source": [
        "model = model.to(device)\n",
        "criterion = criterion.to(device)"
      ],
      "execution_count": 53,
      "outputs": []
    },
    {
      "cell_type": "code",
      "metadata": {
        "id": "JF6QvRf5s6wE",
        "colab_type": "code",
        "colab": {}
      },
      "source": [
        "dataiter_dict = {'train': train_iterator, 'val': val_iterator}\n",
        "dataset_sizes = {'train':len(train_data), 'val':len(val_data)}"
      ],
      "execution_count": 54,
      "outputs": []
    },
    {
      "cell_type": "code",
      "metadata": {
        "id": "TWqEjU48s6wG",
        "colab_type": "code",
        "colab": {}
      },
      "source": [
        "def train_model(model, criterion, optimizer, scheduler, num_epochs=25):\n",
        "    since = time.time()\n",
        "    print('starting')\n",
        "    best_model_wts = copy.deepcopy(model.state_dict())\n",
        "    best_loss = 200\n",
        "\n",
        "    val_loss = []\n",
        "    train_loss = []\n",
        "    val_acc = []\n",
        "    train_acc = []\n",
        "\n",
        "    for epoch in range(num_epochs):\n",
        "        print('Epoch {}/{}'.format(epoch+1, num_epochs))\n",
        "        print('-' * 10)\n",
        "\n",
        "        # Each epoch has a training and validation phase\n",
        "        for phase in ['train', 'val']:\n",
        "            if phase == 'train':\n",
        "                scheduler.step()\n",
        "                model.train()  # Set model to training mode\n",
        "            else:\n",
        "                model.eval()   # Set model to evaluate mode\n",
        "\n",
        "            running_loss = 0.0\n",
        "            sentiment_corrects = 0\n",
        "            tp = 0.0\n",
        "            tn = 0.0\n",
        "            fp = 0.0\n",
        "            fn = 0.0\n",
        "                      \n",
        "            # Iterate over data.\n",
        "            for batch in dataiter_dict[phase]:\n",
        "                \n",
        "                # zero the parameter gradients\n",
        "                optimizer.zero_grad()\n",
        "\n",
        "                # forward\n",
        "                # track history if only in train\n",
        "                with torch.set_grad_enabled(phase == 'train'):\n",
        "                    text = batch.Text\n",
        "                    label = batch.Label\n",
        "                    label = torch.autograd.Variable(label).long()\n",
        "                    if torch.cuda.is_available():\n",
        "                      text = text.cuda()\n",
        "                      label = label.cuda()\n",
        "                    if (batch.Text.size()[1] is not batch_size):\n",
        "                      continue\n",
        "                    \n",
        "                    outputs = model(text)\n",
        "\n",
        "                    outputs = F.softmax(outputs,dim=-1)\n",
        "                    \n",
        "                    loss = criterion(outputs, label)\n",
        "\n",
        "                    # backward + optimize only if in training phase\n",
        "                    if phase == 'train':\n",
        "                        \n",
        "                        loss.backward()\n",
        "                        optimizer.step()\n",
        "\n",
        "                # statistics\n",
        "                running_loss += loss.item() * text.size(0)\n",
        "                sentiment_corrects += torch.sum(torch.max(outputs, 1)[1] == label)\n",
        "\n",
        "                tp += torch.sum(torch.max(outputs, 1)[1] & label)\n",
        "                tn += torch.sum(1-torch.max(outputs, 1)[1] & 1-label)\n",
        "                fp += torch.sum(torch.max(outputs, 1)[1] & 1-label)\n",
        "                fn += torch.sum(1-torch.max(outputs, 1)[1] & label)\n",
        "\n",
        "                \n",
        "            epoch_loss = running_loss / dataset_sizes[phase]\n",
        " \n",
        "            sentiment_acc = sentiment_corrects.double() / dataset_sizes[phase]\n",
        "\n",
        "            if phase == 'train':\n",
        "                train_acc.append(sentiment_acc)\n",
        "                train_loss.append(epoch_loss)\n",
        "            elif phase == 'val':\n",
        "                val_acc.append(sentiment_acc)\n",
        "                val_loss.append(epoch_loss)\n",
        "\n",
        "            print('{} total loss: {:.4f} '.format(phase,epoch_loss ))\n",
        "            print('{} sentiment_acc: {:.4f}'.format(\n",
        "                phase, sentiment_acc))\n",
        "\n",
        "            if phase == 'val' and epoch_loss < best_loss:\n",
        "                print('saving with loss of {}'.format(epoch_loss),\n",
        "                      'improved over previous {}'.format(best_loss))\n",
        "                best_loss = epoch_loss\n",
        "                best_model_wts = copy.deepcopy(model.state_dict())\n",
        "                torch.save(model.state_dict(), 'lstm_model_test.pth')\n",
        "\n",
        "        print()\n",
        "\n",
        "    confusion_matrix = [[tp, fp],[fn, tn]]\n",
        "    time_elapsed = time.time() - since\n",
        "    print('Training complete in {:.0f}m {:.0f}s'.format(\n",
        "        time_elapsed // 60, time_elapsed % 60))\n",
        "    print('Best val loss: {:4f}'.format(float(best_loss)))\n",
        "    results = {'time': time_elapsed, 'conf_matr': confusion_matrix,\n",
        "               'val_loss': val_loss, 'train_loss': train_loss, 'val_acc': val_acc, 'train_acc': train_acc}\n",
        "    # load best model weights\n",
        "    model.load_state_dict(best_model_wts)\n",
        "    return model, results"
      ],
      "execution_count": 55,
      "outputs": []
    },
    {
      "cell_type": "code",
      "metadata": {
        "id": "XisIk1O_s6wJ",
        "colab_type": "code",
        "colab": {
          "base_uri": "https://localhost:8080/",
          "height": 128
        },
        "outputId": "66fdab38-9098-4e96-b702-4444a1c11b5d"
      },
      "source": [
        "#model_fit, res = train_model(model, criterion, optimizer, exp_lr_scheduler, num_epochs=8)\n",
        "model_fit, res = train_model(model, criterion, optimizer, exp_lr_scheduler, num_epochs=8)"
      ],
      "execution_count": null,
      "outputs": [
        {
          "output_type": "stream",
          "text": [
            "starting\n",
            "Epoch 1/8\n",
            "----------\n"
          ],
          "name": "stdout"
        },
        {
          "output_type": "stream",
          "text": [
            "/usr/local/lib/python3.6/dist-packages/torch/optim/lr_scheduler.py:123: UserWarning: Detected call of `lr_scheduler.step()` before `optimizer.step()`. In PyTorch 1.1.0 and later, you should call them in the opposite order: `optimizer.step()` before `lr_scheduler.step()`.  Failure to do this will result in PyTorch skipping the first value of the learning rate schedule. See more details at https://pytorch.org/docs/stable/optim.html#how-to-adjust-learning-rate\n",
            "  \"https://pytorch.org/docs/stable/optim.html#how-to-adjust-learning-rate\", UserWarning)\n"
          ],
          "name": "stderr"
        }
      ]
    },
    {
      "cell_type": "code",
      "metadata": {
        "id": "fxaGN7Xns6wL",
        "colab_type": "code",
        "colab": {
          "base_uri": "https://localhost:8080/",
          "height": 297
        },
        "outputId": "3218f087-4aeb-485e-81e9-76e06b7d786c"
      },
      "source": [
        "plot(res['train_acc'], label = 'Train Accuracy')\n",
        "plot(res['val_acc'], label = 'Test Accuracy')\n",
        "xlabel('Epoch')\n",
        "legend()"
      ],
      "execution_count": 29,
      "outputs": [
        {
          "output_type": "execute_result",
          "data": {
            "text/plain": [
              "<matplotlib.legend.Legend at 0x7f371fac9ef0>"
            ]
          },
          "metadata": {
            "tags": []
          },
          "execution_count": 29
        },
        {
          "output_type": "display_data",
          "data": {
            "image/png": "[encoded data removed]",
            "text/plain": [
              "<Figure size 432x288 with 1 Axes>"
            ]
          },
          "metadata": {
            "tags": [],
            "needs_background": "light"
          }
        }
      ]
    },
    {
      "cell_type": "code",
      "metadata": {
        "id": "8vNVJrgns6wP",
        "colab_type": "code",
        "colab": {}
      },
      "source": [
        "test.to_csv(\"processed_files/test.csv\", index=False)"
      ],
      "execution_count": null,
      "outputs": []
    },
    {
      "cell_type": "code",
      "metadata": {
        "id": "c1CqD_pDs6wS",
        "colab_type": "code",
        "colab": {}
      },
      "source": [
        "test_data = data.TabularDataset(\n",
        "    path=\"processed_files/test.csv\", format=\"csv\", skip_header=True, \n",
        "    fields=[('Text', TEXT)]\n",
        ")"
      ],
      "execution_count": null,
      "outputs": []
    },
    {
      "cell_type": "code",
      "metadata": {
        "id": "dXulwBqJs6wU",
        "colab_type": "code",
        "colab": {}
      },
      "source": [
        "print(f'Number of testing examples: {len(test_data)}')"
      ],
      "execution_count": null,
      "outputs": []
    },
    {
      "cell_type": "code",
      "metadata": {
        "id": "WehR0zBys6wX",
        "colab_type": "code",
        "colab": {}
      },
      "source": [
        "batch_size = 16\n",
        "\n",
        "# keep in mind the sort_key option \n",
        "test_iterator = data.BucketIterator(\n",
        "    test_data,\n",
        "    train=False,\n",
        "    sort = False,\n",
        "    sort_within_batch=False,\n",
        "    repeat=False,\n",
        "    batch_size=batch_size,\n",
        "    device=device)"
      ],
      "execution_count": null,
      "outputs": []
    },
    {
      "cell_type": "code",
      "metadata": {
        "id": "dWCZAJcxs6wZ",
        "colab_type": "code",
        "colab": {}
      },
      "source": [
        "model.eval()\n",
        "pred = []\n",
        "\n",
        "for batch in test_iterator:\n",
        "  text = batch.Text\n",
        "  if torch.cuda.is_available():\n",
        "    text = text.cuda()\n",
        "  if (batch.Text.size()[1] is not batch_size):\n",
        "    continue\n",
        "  outputs = model(text)\n",
        "  outputs = F.softmax(outputs,dim=-1)\n",
        "  outputs = torch.max(outputs, 1)[1]\n",
        "  pred.append(outputs.cpu().numpy())"
      ],
      "execution_count": null,
      "outputs": []
    },
    {
      "cell_type": "code",
      "metadata": {
        "id": "Lcb8Nm1Ts6wd",
        "colab_type": "code",
        "colab": {}
      },
      "source": [
        "pred = np.array(pred)\n",
        "pred = pred.reshape(-1)"
      ],
      "execution_count": null,
      "outputs": []
    },
    {
      "cell_type": "code",
      "metadata": {
        "id": "UfI6SBXrs6wf",
        "colab_type": "code",
        "colab": {}
      },
      "source": [
        "test = pd.read_csv('/kaggle/input/nlp-getting-started/test.csv')\n",
        "sub = pd.concat([test['id'], pd.Series(pred, name='target')], axis=1)"
      ],
      "execution_count": null,
      "outputs": []
    },
    {
      "cell_type": "code",
      "metadata": {
        "id": "25rdyZw7s6wi",
        "colab_type": "code",
        "colab": {}
      },
      "source": [
        "sub.head()"
      ],
      "execution_count": null,
      "outputs": []
    },
    {
      "cell_type": "code",
      "metadata": {
        "id": "_a9fCxx8s6wl",
        "colab_type": "code",
        "colab": {}
      },
      "source": [
        "sub = sub.fillna(0)"
      ],
      "execution_count": null,
      "outputs": []
    },
    {
      "cell_type": "code",
      "metadata": {
        "id": "UVOIFBJGs6wp",
        "colab_type": "code",
        "colab": {}
      },
      "source": [
        "sub = sub.astype(int)"
      ],
      "execution_count": null,
      "outputs": []
    },
    {
      "cell_type": "code",
      "metadata": {
        "id": "fjhwoWCJs6wr",
        "colab_type": "code",
        "colab": {}
      },
      "source": [
        "sub"
      ],
      "execution_count": null,
      "outputs": []
    },
    {
      "cell_type": "code",
      "metadata": {
        "id": "DrC7p0zZs6wu",
        "colab_type": "code",
        "colab": {}
      },
      "source": [
        "sub.to_csv('sub.csv', index=False)"
      ],
      "execution_count": null,
      "outputs": []
    },
    {
      "cell_type": "code",
      "metadata": {
        "id": "yBT_c7lTs6ww",
        "colab_type": "code",
        "colab": {}
      },
      "source": [
        "!head sub.csv"
      ],
      "execution_count": null,
      "outputs": []
    }
  ]
}